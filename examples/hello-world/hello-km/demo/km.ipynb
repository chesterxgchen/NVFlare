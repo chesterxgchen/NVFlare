{
 "cells": [
  {
   "cell_type": "code",
   "execution_count": null,
   "id": "16c35505-cb9e-4517-bd85-6262cf881b3a",
   "metadata": {
    "tags": []
   },
   "outputs": [],
   "source": [
    "import matplotlib.pyplot as plt\n",
    "import json"
   ]
  },
  {
   "cell_type": "code",
   "execution_count": null,
   "id": "41bd1b35-a8bb-4fe4-9619-c369b2201bcb",
   "metadata": {
    "tags": []
   },
   "outputs": [],
   "source": [
    "with open(\"km.json\", 'r') as json_file:\n",
    "    data = json.load(json_file)"
   ]
  },
  {
   "cell_type": "code",
   "execution_count": null,
   "id": "e81f00ed-24c5-434e-942d-9b91a53eb232",
   "metadata": {
    "tags": []
   },
   "outputs": [],
   "source": [
    "for site, result in data.items():\n",
    "    timeline = result[\"timeline\"]\n",
    "    km_estimate = result[\"km_estimate\"]\n",
    "    plt.step(timeline, km_estimate, where=\"post\", label=f\"{site}: Survival Curve\")\n",
    "\n",
    "plt.xlabel(\"Time\")\n",
    "plt.ylabel(\"Survival Probability\")\n",
    "plt.title(\"Kaplan-Meier Survival Curve\")\n",
    "plt.legend()\n",
    "plt.show()"
   ]
  },
  {
   "cell_type": "code",
   "execution_count": null,
   "id": "b43334bb-c77d-40f4-99b4-c2f9adb37d7e",
   "metadata": {
    "tags": []
   },
   "outputs": [],
   "source": []
  },
  {
   "cell_type": "code",
   "execution_count": null,
   "id": "c760a0ba-5450-4ae8-9c2d-774c9bf84515",
   "metadata": {},
   "outputs": [],
   "source": []
  }
 ],
 "metadata": {
  "kernelspec": {
   "display_name": "nvflare_example",
   "language": "python",
   "name": "nvflare_example"
  },
  "language_info": {
   "codemirror_mode": {
    "name": "ipython",
    "version": 3
   },
   "file_extension": ".py",
   "mimetype": "text/x-python",
   "name": "python",
   "nbconvert_exporter": "python",
   "pygments_lexer": "ipython3",
   "version": "3.8.16"
  }
 },
 "nbformat": 4,
 "nbformat_minor": 5
}
